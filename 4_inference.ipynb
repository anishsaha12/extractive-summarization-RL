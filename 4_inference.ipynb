{
 "cells": [
  {
   "cell_type": "code",
   "execution_count": 1,
   "id": "86c60568-fb90-43ac-9790-d9cca629ed2e",
   "metadata": {},
   "outputs": [],
   "source": [
    "import pickle\n",
    "import numpy as np\n",
    "import torch\n",
    "\n",
    "from model import ArticleSummarizer\n",
    "from model_utils import get_data_chunk, inference"
   ]
  },
  {
   "cell_type": "code",
   "execution_count": 2,
   "id": "0e07f8ec-f55a-429b-ac1e-db8fef5e2697",
   "metadata": {},
   "outputs": [],
   "source": [
    "data_base = 'data'\n",
    "dataset_name = 'cnn_dailymail'\n",
    "\n",
    "data_path = data_base+'/'+dataset_name\n",
    "\n",
    "model_data_folder = data_path+'/top_sentence_embs'\n",
    "model_save_path = 'model/summarizer_model_4.pt'\n",
    "\n",
    "batch_size = 128\n",
    "\n",
    "mydevice = 'cuda'\n",
    "# mydevice = 'cpu'"
   ]
  },
  {
   "cell_type": "code",
   "execution_count": 3,
   "id": "1e5a2725-b7e4-426d-a040-7a51f0471cd6",
   "metadata": {},
   "outputs": [
    {
     "name": "stdout",
     "output_type": "stream",
     "text": [
      "Loaded Saved Model\n"
     ]
    }
   ],
   "source": [
    "summarizer1 = torch.load(model_save_path).to(mydevice)\n",
    "print('Loaded Saved Model')"
   ]
  },
  {
   "cell_type": "code",
   "execution_count": 4,
   "id": "f2b75970-1e60-4e60-9269-34154ab8d6f0",
   "metadata": {},
   "outputs": [
    {
     "name": "stdout",
     "output_type": "stream",
     "text": [
      "Loaded Data\n"
     ]
    }
   ],
   "source": [
    "test_chunk, num_t_batches = get_data_chunk(model_data_folder, 'test', 1, batch_size)\n",
    "test_chunk = test_chunk[:-1] # ignore last batch as its not same size\n",
    "print('Loaded Data')"
   ]
  },
  {
   "cell_type": "code",
   "execution_count": 5,
   "id": "1a72b555-530a-4cca-a3d0-270387a4c1ae",
   "metadata": {},
   "outputs": [
    {
     "name": "stderr",
     "output_type": "stream",
     "text": [
      "100%|██████████| 87/87 [00:28<00:00,  3.03it/s]\n"
     ]
    }
   ],
   "source": [
    "info = inference(summarizer1, test_chunk)"
   ]
  },
  {
   "cell_type": "code",
   "execution_count": 6,
   "id": "88c193c7-1c6b-4e72-b6b8-a30c5a732422",
   "metadata": {},
   "outputs": [],
   "source": [
    "predicted_action = []\n",
    "predicted_logits = []\n",
    "for b_info in info:\n",
    "    pred_logits, decoder_attention, actions = b_info\n",
    "    predicted_action.extend(actions)\n",
    "    predicted_logits.extend(pred_logits)\n",
    "predicted_action = np.array(predicted_action)\n",
    "predicted_logits = np.array(predicted_logits)"
   ]
  },
  {
   "cell_type": "code",
   "execution_count": 7,
   "id": "0e34cadc-783c-4293-88aa-290f17ebd5fc",
   "metadata": {},
   "outputs": [],
   "source": [
    "a_ids = []\n",
    "for batch in test_chunk:\n",
    "    a_ids.extend(batch[0])"
   ]
  },
  {
   "cell_type": "code",
   "execution_count": 8,
   "id": "aae03702-bfa3-4494-93b9-b4a973bc5bf0",
   "metadata": {},
   "outputs": [
    {
     "data": {
      "text/plain": [
       "(11136, 10, 2)"
      ]
     },
     "execution_count": 8,
     "metadata": {},
     "output_type": "execute_result"
    }
   ],
   "source": [
    "predicted_logits.shape"
   ]
  },
  {
   "cell_type": "code",
   "execution_count": 9,
   "id": "aa963b7b-6337-4860-bedb-2f946063130c",
   "metadata": {},
   "outputs": [
    {
     "data": {
      "text/plain": [
       "(11136, 10)"
      ]
     },
     "execution_count": 9,
     "metadata": {},
     "output_type": "execute_result"
    }
   ],
   "source": [
    "predicted_action.shape"
   ]
  },
  {
   "cell_type": "code",
   "execution_count": 10,
   "id": "2051fcda-70f1-4bbc-b017-e2b361ca0372",
   "metadata": {},
   "outputs": [],
   "source": [
    "with open(\n",
    "    'test_predicted_actions_4.pkl', \n",
    "    'wb') as pickle_file:\n",
    "    pickle.dump(predicted_action, pickle_file, protocol=pickle.HIGHEST_PROTOCOL)\n",
    "with open(\n",
    "    'test_predicted_article_ids.pkl', \n",
    "    'wb') as pickle_file:\n",
    "    pickle.dump(a_ids, pickle_file, protocol=pickle.HIGHEST_PROTOCOL)"
   ]
  },
  {
   "cell_type": "code",
   "execution_count": null,
   "id": "64465c1d-5563-427b-a5c0-4427824ad1d8",
   "metadata": {},
   "outputs": [],
   "source": []
  }
 ],
 "metadata": {
  "kernelspec": {
   "display_name": "Python 3",
   "language": "python",
   "name": "python3"
  },
  "language_info": {
   "codemirror_mode": {
    "name": "ipython",
    "version": 3
   },
   "file_extension": ".py",
   "mimetype": "text/x-python",
   "name": "python",
   "nbconvert_exporter": "python",
   "pygments_lexer": "ipython3",
   "version": "3.8.8"
  }
 },
 "nbformat": 4,
 "nbformat_minor": 5
}
