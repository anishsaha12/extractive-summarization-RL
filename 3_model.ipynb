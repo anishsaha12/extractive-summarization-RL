{
 "cells": [
  {
   "cell_type": "code",
   "execution_count": 6,
   "id": "e822c6b3-3242-4f48-b459-778c14cc32f3",
   "metadata": {},
   "outputs": [],
   "source": [
    "import pickle\n",
    "import numpy as np\n",
    "import torch.nn as nn\n",
    "from torch import optim\n",
    "\n",
    "from model import ArticleSummarizer\n",
    "from model_utils import train, evaluate, get_data_chunk"
   ]
  },
  {
   "cell_type": "code",
   "execution_count": null,
   "id": "9aa5d447-4980-4e7b-8d66-c6d2b9e63200",
   "metadata": {
    "jupyter": {
     "source_hidden": true
    },
    "tags": []
   },
   "outputs": [],
   "source": [
    "ten_sent_batch = torch.tensor(\n",
    "    [\n",
    "        np.random.random((10,768)), \n",
    "        np.random.random((10,768)), \n",
    "        np.random.random((10,768))\n",
    "    ], \n",
    "    dtype=torch.float\n",
    ")\n",
    "ten_sent_batch.shape # batchSize x seqLen x embSize\n",
    "\n",
    "# summary_batch = torch.tensor(     # current summary sents + next sent (at end)\n",
    "#     rnn.pad_sequence([\n",
    "#         torch.tensor(np.random.random((2,768))),\n",
    "#         torch.tensor(np.random.random((1,768))),\n",
    "#         torch.tensor(np.random.random((4,768)))\n",
    "#     ], batch_first=True), \n",
    "#     dtype=torch.float\n",
    "# )\n",
    "# input_lengths = [2,1,4]\n",
    "# summary_batch.shape\n",
    "\n",
    "gold_actions = np.array([\n",
    "    [2, 1, 2, 1, 1, 2, 2, 2, 1, 2],\n",
    "    [1, 1, 2, 2, 2, 1, 1, 2, 2, 2],\n",
    "    [1, 2, 1, 2, 2, 2, 2, 2, 1, 1]\n",
    "])\n",
    "gold_actions.shape"
   ]
  },
  {
   "cell_type": "code",
   "execution_count": null,
   "id": "5e545477-49d6-4a79-99c9-8e943288eac5",
   "metadata": {},
   "outputs": [],
   "source": []
  },
  {
   "cell_type": "code",
   "execution_count": 7,
   "id": "5ae55063-c5a4-4579-a76f-7ed89f77d6a2",
   "metadata": {},
   "outputs": [],
   "source": [
    "data_base = 'data'\n",
    "dataset_name = 'cnn_dailymail'\n",
    "\n",
    "data_path = data_base+'/'+dataset_name\n",
    "\n",
    "model_data_folder = data_path+'/top_sentence_embs'\n",
    "model_save_path = 'summarizer_model_1.pt'"
   ]
  },
  {
   "cell_type": "code",
   "execution_count": 8,
   "id": "b1c65556-36a8-4c86-94c7-f2f88d58d5b2",
   "metadata": {},
   "outputs": [],
   "source": [
    "batch_size = 3\n",
    "num_epochs = 2"
   ]
  },
  {
   "cell_type": "code",
   "execution_count": 9,
   "id": "daed6843-07c5-480e-a83d-28018d7167ac",
   "metadata": {},
   "outputs": [],
   "source": [
    "mydevice = 'cuda'\n",
    "mydevice = 'cpu'"
   ]
  },
  {
   "cell_type": "code",
   "execution_count": null,
   "id": "477d2495-c38d-42e2-bcb1-fdac321bee93",
   "metadata": {},
   "outputs": [],
   "source": []
  },
  {
   "cell_type": "code",
   "execution_count": 10,
   "id": "cb8080d4-d3f3-47ea-a507-2fd0d24ef922",
   "metadata": {},
   "outputs": [],
   "source": [
    "summarizer1 = ArticleSummarizer(\n",
    "    input_size=768, hidden_size=64, output_size=2, \n",
    "    enc_seq_len=10, summary_max_len=4, batch_size=batch_size, \n",
    "    enc_num_layers=1, enc_bidirectional=False, \n",
    "    dec_num_layers=1, dec_bidirectional=False, attention_method=\"key:encoder\",\n",
    "    use_teacher_forcing=True, device=mydevice\n",
    ").to(mydevice)"
   ]
  },
  {
   "cell_type": "code",
   "execution_count": 11,
   "id": "1e16e4de-d915-4724-990a-0e797b917a58",
   "metadata": {},
   "outputs": [],
   "source": [
    "criterion = nn.NLLLoss()\n",
    "model_optimizer = optim.Adam(summarizer1.parameters(), lr=0.001)"
   ]
  },
  {
   "cell_type": "code",
   "execution_count": null,
   "id": "af150cb6-139d-4313-8a86-0cc2191deef4",
   "metadata": {},
   "outputs": [],
   "source": []
  },
  {
   "cell_type": "code",
   "execution_count": 12,
   "id": "40a54e4a-06c7-471b-8205-6f5a4b600d2a",
   "metadata": {},
   "outputs": [],
   "source": [
    "eval_chunk, num_e_batches = get_data_chunk(model_data_folder, 'validation', 1, batch_size)\n",
    "eval_chunk = eval_chunk[:-1] # ignore last batch as its not same size"
   ]
  },
  {
   "cell_type": "code",
   "execution_count": null,
   "id": "2033c9b5-2080-44e4-962b-47af37ffc718",
   "metadata": {},
   "outputs": [],
   "source": [
    "losses = []\n",
    "for epoch in range(num_epochs):\n",
    "    c_losses = []\n",
    "    for chunk_num in range(1,6):\n",
    "        train_chunk, num_batches = get_data_chunk(model_data_folder, 'train', chunk_num, batch_size)\n",
    "        train_chunk = train_chunk[:-1] # ignore last batch as its not same size\n",
    "        summarizer1, model_optimizer, loss, info = train(summarizer1, criterion, model_optimizer, train_chunk)\n",
    "        del train_chunk\n",
    "        c_losses.append(loss)\n",
    "    loss = np.mean(c_losses)\n",
    "    losses.append(loss)\n",
    "    e_loss, e_acc, e_info = evaluate(summarizer1, criterion, eval_chunk)\n",
    "    print('Epoch:',epoch,'- Train Loss:',loss,'- Eval Loss:',e_loss,'- Eval Acc:',e_acc)\n",
    "    torch.save(summarizer1, model_save_path)\n",
    "    \n",
    "print('All Epoch Train Loss:', losses)\n",
    "print('Final Eval Accuracy:', e_acc)\n",
    "torch.save(summarizer1, model_save_path)"
   ]
  },
  {
   "cell_type": "code",
   "execution_count": null,
   "id": "23d1cc35-228d-4fb9-a45d-212f0c05088b",
   "metadata": {},
   "outputs": [],
   "source": []
  },
  {
   "cell_type": "code",
   "execution_count": null,
   "id": "df81bb4a-f835-4c86-a51e-f890621b26c6",
   "metadata": {},
   "outputs": [],
   "source": [
    "# train_chunk, num_batches = get_data_chunk(model_data_folder, 'train', 1, batch_size)\n",
    "# eval_chunk = train_chunk[:10]\n",
    "\n",
    "# summarizer1, model_optimizer, loss, info = train(summarizer1, criterion, model_optimizer, train_chunk[:10])\n",
    "# e_loss, e_acc, e_info = evaluate(summarizer1, criterion, eval_chunk)\n",
    "# print('Epoch:',1,'- Train Loss:',loss,'- Eval Loss:',e_loss,'- Eval Acc:',e_acc)"
   ]
  },
  {
   "cell_type": "code",
   "execution_count": null,
   "id": "6ff62fa9-8389-4d49-9c42-5ac4b45d5300",
   "metadata": {},
   "outputs": [],
   "source": []
  },
  {
   "cell_type": "code",
   "execution_count": null,
   "id": "612f287c-32e9-4ad4-a0f5-620c43c3f6e8",
   "metadata": {},
   "outputs": [],
   "source": []
  }
 ],
 "metadata": {
  "kernelspec": {
   "display_name": "Python 3",
   "language": "python",
   "name": "python3"
  },
  "language_info": {
   "codemirror_mode": {
    "name": "ipython",
    "version": 3
   },
   "file_extension": ".py",
   "mimetype": "text/x-python",
   "name": "python",
   "nbconvert_exporter": "python",
   "pygments_lexer": "ipython3",
   "version": "3.8.8"
  }
 },
 "nbformat": 4,
 "nbformat_minor": 5
}
